{
 "cells": [
  {
   "cell_type": "markdown",
   "metadata": {
    "application/vnd.databricks.v1+cell": {
     "cellMetadata": {},
     "inputWidgets": {},
     "nuid": "7080a470-8c29-4102-8090-a6cfc2a06f08",
     "showTitle": false,
     "tableResultSettingsMap": {},
     "title": ""
    }
   },
   "source": [
    "Użyj każdą z tych funkcji \n",
    "* `unix_timestamp()` \n",
    "* `date_format()`\n",
    "* `to_unix_timestamp()`\n",
    "* `from_unixtime()`\n",
    "* `to_date()` \n",
    "* `to_timestamp()` \n",
    "* `from_utc_timestamp()` \n",
    "* `to_utc_timestamp()`"
   ]
  },
  {
   "cell_type": "code",
   "execution_count": 0,
   "metadata": {
    "application/vnd.databricks.v1+cell": {
     "cellMetadata": {
      "byteLimit": 2048000,
      "rowLimit": 10000
     },
     "inputWidgets": {},
     "nuid": "6f9776f7-6073-41f0-8f38-0490f0788c93",
     "showTitle": false,
     "tableResultSettingsMap": {},
     "title": ""
    }
   },
   "outputs": [
    {
     "output_type": "display_data",
     "data": {
      "text/html": [
       "<style scoped>\n",
       "  .table-result-container {\n",
       "    max-height: 300px;\n",
       "    overflow: auto;\n",
       "  }\n",
       "  table, th, td {\n",
       "    border: 1px solid black;\n",
       "    border-collapse: collapse;\n",
       "  }\n",
       "  th, td {\n",
       "    padding: 5px;\n",
       "  }\n",
       "  th {\n",
       "    text-align: left;\n",
       "  }\n",
       "</style><div class='table-result-container'><table class='table-result'><thead style='background-color: white'><tr><th>timestamp</th><th>unix</th><th>Date</th><th>current_date</th><th>current_timestamp</th></tr></thead><tbody><tr><td>2015-03-22T14:13:34</td><td>1646641525847</td><td>May, 2021</td><td>2025-03-14</td><td>2025-03-14T19:05:21.670+0000</td></tr><tr><td>2015-03-22T15:03:18</td><td>1646641557555</td><td>Mar, 2021</td><td>2025-03-14</td><td>2025-03-14T19:05:21.670+0000</td></tr><tr><td>2015-03-22T14:38:39</td><td>1646641578622</td><td>Jan, 2021</td><td>2025-03-14</td><td>2025-03-14T19:05:21.670+0000</td></tr></tbody></table></div>"
      ]
     },
     "metadata": {
      "application/vnd.databricks.v1+output": {
       "addedWidgets": {},
       "aggData": [],
       "aggError": "",
       "aggOverflow": false,
       "aggSchema": [],
       "aggSeriesLimitReached": false,
       "aggType": "",
       "arguments": {},
       "columnCustomDisplayInfos": {},
       "data": [
        [
         "2015-03-22T14:13:34",
         1646641525847,
         "May, 2021",
         "2025-03-14",
         "2025-03-14T19:05:21.670+0000"
        ],
        [
         "2015-03-22T15:03:18",
         1646641557555,
         "Mar, 2021",
         "2025-03-14",
         "2025-03-14T19:05:21.670+0000"
        ],
        [
         "2015-03-22T14:38:39",
         1646641578622,
         "Jan, 2021",
         "2025-03-14",
         "2025-03-14T19:05:21.670+0000"
        ]
       ],
       "datasetInfos": [
        {
         "name": "dataFrame",
         "schema": {
          "fields": [
           {
            "metadata": {},
            "name": "timestamp",
            "nullable": true,
            "type": "string"
           },
           {
            "metadata": {},
            "name": "unix",
            "nullable": false,
            "type": "long"
           },
           {
            "metadata": {},
            "name": "Date",
            "nullable": true,
            "type": "string"
           },
           {
            "metadata": {},
            "name": "current_date",
            "nullable": false,
            "type": "date"
           },
           {
            "metadata": {},
            "name": "current_timestamp",
            "nullable": false,
            "type": "timestamp"
           }
          ],
          "type": "struct"
         },
         "tableIdentifier": null,
         "typeStr": "org.apache.spark.sql.DataFrame"
        }
       ],
       "dbfsResultPath": null,
       "isJsonSchema": true,
       "metadata": {
        "isDbfsCommandResult": false
       },
       "overflow": false,
       "plotOptions": {
        "customPlotOptions": {},
        "displayType": "table",
        "pivotAggregation": null,
        "pivotColumns": null,
        "xColumns": null,
        "yColumns": null
       },
       "removedWidgets": [],
       "schema": [
        {
         "metadata": "{}",
         "name": "timestamp",
         "type": "\"string\""
        },
        {
         "metadata": "{}",
         "name": "unix",
         "type": "\"long\""
        },
        {
         "metadata": "{}",
         "name": "Date",
         "type": "\"string\""
        },
        {
         "metadata": "{}",
         "name": "current_date",
         "type": "\"date\""
        },
        {
         "metadata": "{}",
         "name": "current_timestamp",
         "type": "\"timestamp\""
        }
       ],
       "type": "table"
      }
     },
     "output_type": "display_data"
    }
   ],
   "source": [
    "%scala\n",
    "import org.apache.spark.sql.functions._\n",
    "\n",
    "val kolumny = Seq(\"timestamp\",\"unix\", \"Date\")\n",
    "val dane = Seq((\"2015-03-22T14:13:34\", 1646641525847L,\"May, 2021\"),\n",
    "               (\"2015-03-22T15:03:18\", 1646641557555L,\"Mar, 2021\"),\n",
    "               (\"2015-03-22T14:38:39\", 1646641578622L,\"Jan, 2021\"))\n",
    "\n",
    "var dataFrame = spark.createDataFrame(dane).toDF(kolumny:_*)\n",
    "  .withColumn(\"current_date\",current_date().as(\"current_date\"))\n",
    "  .withColumn(\"current_timestamp\",current_timestamp().as(\"current_timestamp\"))\n",
    "display(dataFrame)"
   ]
  },
  {
   "cell_type": "code",
   "execution_count": 0,
   "metadata": {
    "application/vnd.databricks.v1+cell": {
     "cellMetadata": {
      "byteLimit": 2048000,
      "rowLimit": 10000
     },
     "inputWidgets": {},
     "nuid": "bfc884ee-94a0-456b-9212-48b7bcaac341",
     "showTitle": false,
     "tableResultSettingsMap": {},
     "title": ""
    }
   },
   "outputs": [
    {
     "output_type": "display_data",
     "data": {
      "text/html": [
       "<style scoped>\n",
       "  .ansiout {\n",
       "    display: block;\n",
       "    unicode-bidi: embed;\n",
       "    white-space: pre-wrap;\n",
       "    word-wrap: break-word;\n",
       "    word-break: break-all;\n",
       "    font-family: \"Menlo\", \"Monaco\", \"Consolas\", \"Ubuntu Mono\", \"Source Code Pro\", monospace;\n",
       "    font-size: 13px;\n",
       "    color: #555;\n",
       "    margin-left: 4px;\n",
       "    line-height: 19px;\n",
       "  }\n",
       "</style>\n",
       "<div class=\"ansiout\">root\n",
       "-- timestamp: string (nullable = true)\n",
       "-- unix: long (nullable = false)\n",
       "-- Date: string (nullable = true)\n",
       "-- current_date: date (nullable = false)\n",
       "-- current_timestamp: timestamp (nullable = false)\n",
       "\n",
       "</div>"
      ]
     },
     "metadata": {
      "application/vnd.databricks.v1+output": {
       "addedWidgets": {},
       "arguments": {},
       "data": "<div class=\"ansiout\">root\n |-- timestamp: string (nullable = true)\n |-- unix: long (nullable = false)\n |-- Date: string (nullable = true)\n |-- current_date: date (nullable = false)\n |-- current_timestamp: timestamp (nullable = false)\n\n</div>",
       "datasetInfos": [],
       "metadata": {
        "isDbfsCommandResult": false
       },
       "removedWidgets": [],
       "type": "html"
      }
     },
     "output_type": "display_data"
    }
   ],
   "source": [
    "%scala\n",
    "dataFrame.printSchema()"
   ]
  },
  {
   "cell_type": "markdown",
   "metadata": {
    "application/vnd.databricks.v1+cell": {
     "cellMetadata": {},
     "inputWidgets": {},
     "nuid": "5b0f5676-af9a-4c46-9e90-b4270f30f222",
     "showTitle": false,
     "tableResultSettingsMap": {},
     "title": ""
    }
   },
   "source": [
    "## unix_timestamp(..) & cast(..)"
   ]
  },
  {
   "cell_type": "markdown",
   "metadata": {
    "application/vnd.databricks.v1+cell": {
     "cellMetadata": {},
     "inputWidgets": {},
     "nuid": "da2c85c6-dc7c-4519-a586-411a8fc3a0ad",
     "showTitle": false,
     "tableResultSettingsMap": {},
     "title": ""
    }
   },
   "source": [
    "Konwersja **string** to a **timestamp**.\n",
    "\n",
    "Lokalizacja funkcji \n",
    "* `pyspark.sql.functions` in the case of Python\n",
    "* `org.apache.spark.sql.functions` in the case of Scala & Java"
   ]
  },
  {
   "cell_type": "markdown",
   "metadata": {
    "application/vnd.databricks.v1+cell": {
     "cellMetadata": {},
     "inputWidgets": {},
     "nuid": "29619a12-2790-4d54-bd50-abf02531a3c7",
     "showTitle": false,
     "tableResultSettingsMap": {},
     "title": ""
    }
   },
   "source": [
    "## 1. Zmiana formatu wartości timestamp yyyy-MM-dd'T'HH:mm:ss \n",
    "`unix_timestamp(..)`\n",
    "\n",
    "Dokumentacja API `unix_timestamp(..)`:\n",
    "> Convert time string with given pattern (see <a href=\"http://docs.oracle.com/javase/tutorial/i18n/format/simpleDateFormat.html\" target=\"_blank\">SimpleDateFormat</a>) to Unix time stamp (in seconds), return null if fail.\n",
    "\n",
    "`SimpleDataFormat` is part of the Java API and provides support for parsing and formatting date and time values."
   ]
  },
  {
   "cell_type": "code",
   "execution_count": 0,
   "metadata": {
    "application/vnd.databricks.v1+cell": {
     "cellMetadata": {
      "byteLimit": 2048000,
      "rowLimit": 10000
     },
     "inputWidgets": {},
     "nuid": "1a88bca0-2ce7-4a7b-b332-d53e84fe79ae",
     "showTitle": false,
     "tableResultSettingsMap": {},
     "title": ""
    }
   },
   "outputs": [
    {
     "output_type": "display_data",
     "data": {
      "text/html": [
       "<style scoped>\n",
       "  .table-result-container {\n",
       "    max-height: 300px;\n",
       "    overflow: auto;\n",
       "  }\n",
       "  table, th, td {\n",
       "    border: 1px solid black;\n",
       "    border-collapse: collapse;\n",
       "  }\n",
       "  th, td {\n",
       "    padding: 5px;\n",
       "  }\n",
       "  th {\n",
       "    text-align: left;\n",
       "  }\n",
       "</style><div class='table-result-container'><table class='table-result'><thead style='background-color: white'><tr><th>timestamp</th><th>unix</th><th>Date</th><th>current_date</th><th>current_timestamp</th><th>UnixTime</th></tr></thead><tbody><tr><td>2015-03-22T14:13:34</td><td>1646641525847</td><td>May, 2021</td><td>2025-03-14</td><td>2025-03-14T20:16:26.055+0000</td><td>1741910400</td></tr><tr><td>2015-03-22T15:03:18</td><td>1646641557555</td><td>Mar, 2021</td><td>2025-03-14</td><td>2025-03-14T20:16:26.055+0000</td><td>1741910400</td></tr><tr><td>2015-03-22T14:38:39</td><td>1646641578622</td><td>Jan, 2021</td><td>2025-03-14</td><td>2025-03-14T20:16:26.055+0000</td><td>1741910400</td></tr></tbody></table></div>"
      ]
     },
     "metadata": {
      "application/vnd.databricks.v1+output": {
       "addedWidgets": {},
       "aggData": [],
       "aggError": "",
       "aggOverflow": false,
       "aggSchema": [],
       "aggSeriesLimitReached": false,
       "aggType": "",
       "arguments": {},
       "columnCustomDisplayInfos": {},
       "data": [
        [
         "2015-03-22T14:13:34",
         1646641525847,
         "May, 2021",
         "2025-03-14",
         "2025-03-14T20:16:26.055+0000",
         1741910400
        ],
        [
         "2015-03-22T15:03:18",
         1646641557555,
         "Mar, 2021",
         "2025-03-14",
         "2025-03-14T20:16:26.055+0000",
         1741910400
        ],
        [
         "2015-03-22T14:38:39",
         1646641578622,
         "Jan, 2021",
         "2025-03-14",
         "2025-03-14T20:16:26.055+0000",
         1741910400
        ]
       ],
       "datasetInfos": [],
       "dbfsResultPath": null,
       "isJsonSchema": true,
       "metadata": {},
       "overflow": false,
       "plotOptions": {
        "customPlotOptions": {},
        "displayType": "table",
        "pivotAggregation": null,
        "pivotColumns": null,
        "xColumns": null,
        "yColumns": null
       },
       "removedWidgets": [],
       "schema": [
        {
         "metadata": "{}",
         "name": "timestamp",
         "type": "\"string\""
        },
        {
         "metadata": "{}",
         "name": "unix",
         "type": "\"long\""
        },
        {
         "metadata": "{}",
         "name": "Date",
         "type": "\"string\""
        },
        {
         "metadata": "{}",
         "name": "current_date",
         "type": "\"date\""
        },
        {
         "metadata": "{}",
         "name": "current_timestamp",
         "type": "\"timestamp\""
        },
        {
         "metadata": "{}",
         "name": "UnixTime",
         "type": "\"long\""
        }
       ],
       "type": "table"
      }
     },
     "output_type": "display_data"
    }
   ],
   "source": [
    "from pyspark.sql.functions import * \n",
    "from pyspark.sql import SparkSession\n",
    "from datetime import timedelta\n",
    "kolumny = (\"timestamp\",\"unix\", \"Date\")\n",
    "dane = [(\"2015-03-22T14:13:34\", 1646641525847,\"May, 2021\"), \n",
    "               (\"2015-03-22T15:03:18\", 1646641557555,\"Mar, 2021\"),\n",
    "               (\"2015-03-22T14:38:39\", 1646641578622,\"Jan, 2021\")]\n",
    "dataFrame = spark.createDataFrame(dane,kolumny)\\\n",
    "  .withColumn(\"current_date\",current_date())\\\n",
    "  .withColumn(\"current_timestamp\",current_timestamp())\n",
    "'''\n",
    "ts = sql(\"SELECT current_timestamp() AS ts\")\n",
    "ts = ts.collect()[0]['ts']\n",
    "ts1 = ts + timedelta(days = 1)\n",
    "ts1\n",
    "ts2 = ts + timedelta(days=-1)\n",
    "df = spark.createDataFrame(((ts,),(ts1,),(ts2,)),['timestamps'])\n",
    "df = df.withColumn('unix_date',unix_timestamp(df['timestamps']))\n",
    "df.display()\n",
    "'''\n",
    "df = dataFrame.withColumn('UnixTime',unix_timestamp(dataFrame['current_date']))\n",
    "df.display()"
   ]
  },
  {
   "cell_type": "markdown",
   "metadata": {
    "application/vnd.databricks.v1+cell": {
     "cellMetadata": {},
     "inputWidgets": {},
     "nuid": "965ee74b-2147-4065-a06b-a832afc3a7d4",
     "showTitle": false,
     "tableResultSettingsMap": {},
     "title": ""
    }
   },
   "source": [
    "2. Zmień format zgodnie z klasą `SimpleDateFormat`**yyyy-MM-dd HH:mm:ss**\n",
    "  * a. Wyświetl schemat i dane żeby sprawdzicz czy wartości się zmieniły"
   ]
  },
  {
   "cell_type": "code",
   "execution_count": 0,
   "metadata": {
    "application/vnd.databricks.v1+cell": {
     "cellMetadata": {
      "byteLimit": 2048000,
      "rowLimit": 10000
     },
     "inputWidgets": {},
     "nuid": "9013e7b3-750a-442e-9ac9-15d86b16e303",
     "showTitle": false,
     "tableResultSettingsMap": {},
     "title": ""
    }
   },
   "outputs": [
    {
     "output_type": "stream",
     "name": "stdout",
     "output_type": "stream",
     "text": [
      "root\n |-- timestamp: string (nullable = true)\n |-- unix: long (nullable = true)\n |-- Date: string (nullable = true)\n |-- current_date: date (nullable = false)\n |-- current_timestamp: timestamp (nullable = false)\n |-- formatted_date: string (nullable = true)\n\n"
     ]
    },
    {
     "output_type": "display_data",
     "data": {
      "text/html": [
       "<style scoped>\n",
       "  .table-result-container {\n",
       "    max-height: 300px;\n",
       "    overflow: auto;\n",
       "  }\n",
       "  table, th, td {\n",
       "    border: 1px solid black;\n",
       "    border-collapse: collapse;\n",
       "  }\n",
       "  th, td {\n",
       "    padding: 5px;\n",
       "  }\n",
       "  th {\n",
       "    text-align: left;\n",
       "  }\n",
       "</style><div class='table-result-container'><table class='table-result'><thead style='background-color: white'><tr><th>timestamp</th><th>unix</th><th>Date</th><th>current_date</th><th>current_timestamp</th><th>formatted_date</th></tr></thead><tbody><tr><td>2015-03-22T14:13:34</td><td>1646641525847</td><td>May, 2021</td><td>2025-03-14</td><td>2025-03-14T20:21:05.315+0000</td><td>2022-03-07 08:25:25</td></tr><tr><td>2015-03-22T15:03:18</td><td>1646641557555</td><td>Mar, 2021</td><td>2025-03-14</td><td>2025-03-14T20:21:05.315+0000</td><td>2022-03-07 08:25:57</td></tr><tr><td>2015-03-22T14:38:39</td><td>1646641578622</td><td>Jan, 2021</td><td>2025-03-14</td><td>2025-03-14T20:21:05.315+0000</td><td>2022-03-07 08:26:18</td></tr></tbody></table></div>"
      ]
     },
     "metadata": {
      "application/vnd.databricks.v1+output": {
       "addedWidgets": {},
       "aggData": [],
       "aggError": "",
       "aggOverflow": false,
       "aggSchema": [],
       "aggSeriesLimitReached": false,
       "aggType": "",
       "arguments": {},
       "columnCustomDisplayInfos": {},
       "data": [
        [
         "2015-03-22T14:13:34",
         1646641525847,
         "May, 2021",
         "2025-03-14",
         "2025-03-14T20:21:05.315+0000",
         "2022-03-07 08:25:25"
        ],
        [
         "2015-03-22T15:03:18",
         1646641557555,
         "Mar, 2021",
         "2025-03-14",
         "2025-03-14T20:21:05.315+0000",
         "2022-03-07 08:25:57"
        ],
        [
         "2015-03-22T14:38:39",
         1646641578622,
         "Jan, 2021",
         "2025-03-14",
         "2025-03-14T20:21:05.315+0000",
         "2022-03-07 08:26:18"
        ]
       ],
       "datasetInfos": [],
       "dbfsResultPath": null,
       "isJsonSchema": true,
       "metadata": {},
       "overflow": false,
       "plotOptions": {
        "customPlotOptions": {},
        "displayType": "table",
        "pivotAggregation": null,
        "pivotColumns": null,
        "xColumns": null,
        "yColumns": null
       },
       "removedWidgets": [],
       "schema": [
        {
         "metadata": "{}",
         "name": "timestamp",
         "type": "\"string\""
        },
        {
         "metadata": "{}",
         "name": "unix",
         "type": "\"long\""
        },
        {
         "metadata": "{}",
         "name": "Date",
         "type": "\"string\""
        },
        {
         "metadata": "{}",
         "name": "current_date",
         "type": "\"date\""
        },
        {
         "metadata": "{}",
         "name": "current_timestamp",
         "type": "\"timestamp\""
        },
        {
         "metadata": "{}",
         "name": "formatted_date",
         "type": "\"string\""
        }
       ],
       "type": "table"
      }
     },
     "output_type": "display_data"
    }
   ],
   "source": [
    "kolumny = (\"timestamp\",\"unix\", \"Date\")\n",
    "dane = [(\"2015-03-22T14:13:34\", 1646641525847,\"May, 2021\"), \n",
    "               (\"2015-03-22T15:03:18\", 1646641557555,\"Mar, 2021\"),\n",
    "               (\"2015-03-22T14:38:39\", 1646641578622,\"Jan, 2021\")]\n",
    "dataFrame = spark.createDataFrame(dane,kolumny)\\\n",
    "  .withColumn(\"current_date\",current_date())\\\n",
    "  .withColumn(\"current_timestamp\",current_timestamp())\n",
    "zmianaFormatu = dataFrame.withColumn('formatted_date',date_format(from_unixtime(dataFrame['unix']/ 1000),\"yyyy-MM-dd HH:mm:ss\") )\n",
    "# BO ZAPIS W MILISEKUNDACH TAK TO SIE ZGADZA         \n",
    "zmianaFormatu.printSchema()\n",
    "zmianaFormatu.display()"
   ]
  },
  {
   "cell_type": "code",
   "execution_count": 0,
   "metadata": {
    "application/vnd.databricks.v1+cell": {
     "cellMetadata": {},
     "inputWidgets": {},
     "nuid": "f035d832-20ce-4a42-900a-e4b1a16c225b",
     "showTitle": false,
     "tableResultSettingsMap": {},
     "title": ""
    }
   },
   "outputs": [],
   "source": [
    "%scala\n",
    "//unix_timestamp\n",
    "val tempE = \n",
    "display(tempE)"
   ]
  },
  {
   "cell_type": "markdown",
   "metadata": {
    "application/vnd.databricks.v1+cell": {
     "cellMetadata": {},
     "inputWidgets": {},
     "nuid": "db03d5cd-61eb-4fca-a821-e19a85950b6e",
     "showTitle": false,
     "tableResultSettingsMap": {},
     "title": ""
    }
   },
   "source": [
    "## Stwórz nowe kolumny do DataFrame z wartościami year(..), month(..), dayofyear(..)"
   ]
  },
  {
   "cell_type": "code",
   "execution_count": 0,
   "metadata": {
    "application/vnd.databricks.v1+cell": {
     "cellMetadata": {
      "byteLimit": 2048000,
      "rowLimit": 10000
     },
     "inputWidgets": {},
     "nuid": "e1461557-acfa-490d-80e7-ce453bf7a728",
     "showTitle": false,
     "tableResultSettingsMap": {},
     "title": ""
    }
   },
   "outputs": [
    {
     "output_type": "display_data",
     "data": {
      "text/html": [
       "<style scoped>\n",
       "  .table-result-container {\n",
       "    max-height: 300px;\n",
       "    overflow: auto;\n",
       "  }\n",
       "  table, th, td {\n",
       "    border: 1px solid black;\n",
       "    border-collapse: collapse;\n",
       "  }\n",
       "  th, td {\n",
       "    padding: 5px;\n",
       "  }\n",
       "  th {\n",
       "    text-align: left;\n",
       "  }\n",
       "</style><div class='table-result-container'><table class='table-result'><thead style='background-color: white'><tr><th>timestamp</th><th>unix</th><th>Date</th><th>current_date</th><th>current_timestamp</th><th>Year</th><th>Month</th><th>DayOfYear</th></tr></thead><tbody><tr><td>2015-03-22T14:13:34</td><td>1646641525847</td><td>May, 2021</td><td>2025-03-14</td><td>2025-03-14T20:24:49.877+0000</td><td>2025</td><td>3</td><td>73</td></tr><tr><td>2015-03-22T15:03:18</td><td>1646641557555</td><td>Mar, 2021</td><td>2025-03-14</td><td>2025-03-14T20:24:49.877+0000</td><td>2025</td><td>3</td><td>73</td></tr><tr><td>2015-03-22T14:38:39</td><td>1646641578622</td><td>Jan, 2021</td><td>2025-03-14</td><td>2025-03-14T20:24:49.877+0000</td><td>2025</td><td>3</td><td>73</td></tr></tbody></table></div>"
      ]
     },
     "metadata": {
      "application/vnd.databricks.v1+output": {
       "addedWidgets": {},
       "aggData": [],
       "aggError": "",
       "aggOverflow": false,
       "aggSchema": [],
       "aggSeriesLimitReached": false,
       "aggType": "",
       "arguments": {},
       "columnCustomDisplayInfos": {},
       "data": [
        [
         "2015-03-22T14:13:34",
         1646641525847,
         "May, 2021",
         "2025-03-14",
         "2025-03-14T20:24:49.877+0000",
         2025,
         3,
         73
        ],
        [
         "2015-03-22T15:03:18",
         1646641557555,
         "Mar, 2021",
         "2025-03-14",
         "2025-03-14T20:24:49.877+0000",
         2025,
         3,
         73
        ],
        [
         "2015-03-22T14:38:39",
         1646641578622,
         "Jan, 2021",
         "2025-03-14",
         "2025-03-14T20:24:49.877+0000",
         2025,
         3,
         73
        ]
       ],
       "datasetInfos": [],
       "dbfsResultPath": null,
       "isJsonSchema": true,
       "metadata": {},
       "overflow": false,
       "plotOptions": {
        "customPlotOptions": {},
        "displayType": "table",
        "pivotAggregation": null,
        "pivotColumns": null,
        "xColumns": null,
        "yColumns": null
       },
       "removedWidgets": [],
       "schema": [
        {
         "metadata": "{}",
         "name": "timestamp",
         "type": "\"string\""
        },
        {
         "metadata": "{}",
         "name": "unix",
         "type": "\"long\""
        },
        {
         "metadata": "{}",
         "name": "Date",
         "type": "\"string\""
        },
        {
         "metadata": "{}",
         "name": "current_date",
         "type": "\"date\""
        },
        {
         "metadata": "{}",
         "name": "current_timestamp",
         "type": "\"timestamp\""
        },
        {
         "metadata": "{}",
         "name": "Year",
         "type": "\"integer\""
        },
        {
         "metadata": "{}",
         "name": "Month",
         "type": "\"integer\""
        },
        {
         "metadata": "{}",
         "name": "DayOfYear",
         "type": "\"integer\""
        }
       ],
       "type": "table"
      }
     },
     "output_type": "display_data"
    }
   ],
   "source": [
    "\n",
    "#date_format\n",
    "yearDate = dataFrame.withColumn('Year',year(dataFrame['current_date']))\\\n",
    "    .withColumn('Month',month(dataFrame['current_date']))\\\n",
    "    .withColumn('DayOfYear',dayofyear(dataFrame['current_date']))\n",
    "yearDate.display()"
   ]
  },
  {
   "cell_type": "code",
   "execution_count": 0,
   "metadata": {
    "application/vnd.databricks.v1+cell": {
     "cellMetadata": {
      "byteLimit": 2048000,
      "rowLimit": 10000
     },
     "inputWidgets": {},
     "nuid": "d2c0abf1-1002-423c-8bd0-5b2519dd1411",
     "showTitle": false,
     "tableResultSettingsMap": {},
     "title": ""
    }
   },
   "outputs": [
    {
     "output_type": "display_data",
     "data": {
      "text/html": [
       "<style scoped>\n",
       "  .table-result-container {\n",
       "    max-height: 300px;\n",
       "    overflow: auto;\n",
       "  }\n",
       "  table, th, td {\n",
       "    border: 1px solid black;\n",
       "    border-collapse: collapse;\n",
       "  }\n",
       "  th, td {\n",
       "    padding: 5px;\n",
       "  }\n",
       "  th {\n",
       "    text-align: left;\n",
       "  }\n",
       "</style><div class='table-result-container'><table class='table-result'><thead style='background-color: white'><tr><th>timestamp</th><th>unix</th><th>Date</th><th>current_date</th><th>current_timestamp</th><th>TimestampToDate</th><th>UnixToDate</th><th>DateToDate</th></tr></thead><tbody><tr><td>2015-03-22T14:13:34</td><td>1646641525847</td><td>May, 2021</td><td>2025-03-14</td><td>2025-03-14T21:25:06.888+0000</td><td>2015-03-22</td><td>2022-03-07</td><td>2021-05-01</td></tr><tr><td>2015-03-22T15:03:18</td><td>1646641557555</td><td>Mar, 2021</td><td>2025-03-14</td><td>2025-03-14T21:25:06.888+0000</td><td>2015-03-22</td><td>2022-03-07</td><td>2021-03-01</td></tr><tr><td>2015-03-22T14:38:39</td><td>1646641578622</td><td>Jan, 2021</td><td>2025-03-14</td><td>2025-03-14T21:25:06.888+0000</td><td>2015-03-22</td><td>2022-03-07</td><td>2021-01-01</td></tr></tbody></table></div>"
      ]
     },
     "metadata": {
      "application/vnd.databricks.v1+output": {
       "addedWidgets": {},
       "aggData": [],
       "aggError": "",
       "aggOverflow": false,
       "aggSchema": [],
       "aggSeriesLimitReached": false,
       "aggType": "",
       "arguments": {},
       "columnCustomDisplayInfos": {},
       "data": [
        [
         "2015-03-22T14:13:34",
         1646641525847,
         "May, 2021",
         "2025-03-14",
         "2025-03-14T21:25:06.888+0000",
         "2015-03-22",
         "2022-03-07",
         "2021-05-01"
        ],
        [
         "2015-03-22T15:03:18",
         1646641557555,
         "Mar, 2021",
         "2025-03-14",
         "2025-03-14T21:25:06.888+0000",
         "2015-03-22",
         "2022-03-07",
         "2021-03-01"
        ],
        [
         "2015-03-22T14:38:39",
         1646641578622,
         "Jan, 2021",
         "2025-03-14",
         "2025-03-14T21:25:06.888+0000",
         "2015-03-22",
         "2022-03-07",
         "2021-01-01"
        ]
       ],
       "datasetInfos": [],
       "dbfsResultPath": null,
       "isJsonSchema": true,
       "metadata": {},
       "overflow": false,
       "plotOptions": {
        "customPlotOptions": {},
        "displayType": "table",
        "pivotAggregation": null,
        "pivotColumns": null,
        "xColumns": null,
        "yColumns": null
       },
       "removedWidgets": [],
       "schema": [
        {
         "metadata": "{}",
         "name": "timestamp",
         "type": "\"string\""
        },
        {
         "metadata": "{}",
         "name": "unix",
         "type": "\"long\""
        },
        {
         "metadata": "{}",
         "name": "Date",
         "type": "\"string\""
        },
        {
         "metadata": "{}",
         "name": "current_date",
         "type": "\"date\""
        },
        {
         "metadata": "{}",
         "name": "current_timestamp",
         "type": "\"timestamp\""
        },
        {
         "metadata": "{}",
         "name": "TimestampToDate",
         "type": "\"date\""
        },
        {
         "metadata": "{}",
         "name": "UnixToDate",
         "type": "\"date\""
        },
        {
         "metadata": "{}",
         "name": "DateToDate",
         "type": "\"date\""
        }
       ],
       "type": "table"
      }
     },
     "output_type": "display_data"
    }
   ],
   "source": [
    "\n",
    "#to_date()\n",
    "toDate = dataFrame.withColumn('TimestampToDate',to_date(dataFrame['timestamp'])  )\\\n",
    "    .withColumn('UnixToDate', to_date(from_unixtime(dataFrame['unix'] / 1000)))\\\n",
    "    .withColumn('DateToDate',to_date(dataFrame['Date'],'MMM, yyyy'))\n",
    "toDate.display()"
   ]
  },
  {
   "cell_type": "code",
   "execution_count": 0,
   "metadata": {
    "application/vnd.databricks.v1+cell": {
     "cellMetadata": {
      "byteLimit": 2048000,
      "rowLimit": 10000
     },
     "inputWidgets": {},
     "nuid": "867a2aa1-3f1d-41ed-9d75-dbf309fb3dd2",
     "showTitle": false,
     "tableResultSettingsMap": {},
     "title": ""
    }
   },
   "outputs": [
    {
     "output_type": "display_data",
     "data": {
      "text/html": [
       "<style scoped>\n",
       "  .table-result-container {\n",
       "    max-height: 300px;\n",
       "    overflow: auto;\n",
       "  }\n",
       "  table, th, td {\n",
       "    border: 1px solid black;\n",
       "    border-collapse: collapse;\n",
       "  }\n",
       "  th, td {\n",
       "    padding: 5px;\n",
       "  }\n",
       "  th {\n",
       "    text-align: left;\n",
       "  }\n",
       "</style><div class='table-result-container'><table class='table-result'><thead style='background-color: white'><tr><th>timestamp</th><th>unix</th><th>Date</th><th>current_date</th><th>current_timestamp</th><th>FromUnix</th></tr></thead><tbody><tr><td>2015-03-22T14:13:34</td><td>1646641525847</td><td>May, 2021</td><td>2025-03-14</td><td>2025-03-14T21:26:09.936+0000</td><td>2022-03-07 08:25:25</td></tr><tr><td>2015-03-22T15:03:18</td><td>1646641557555</td><td>Mar, 2021</td><td>2025-03-14</td><td>2025-03-14T21:26:09.936+0000</td><td>2022-03-07 08:25:57</td></tr><tr><td>2015-03-22T14:38:39</td><td>1646641578622</td><td>Jan, 2021</td><td>2025-03-14</td><td>2025-03-14T21:26:09.936+0000</td><td>2022-03-07 08:26:18</td></tr></tbody></table></div>"
      ]
     },
     "metadata": {
      "application/vnd.databricks.v1+output": {
       "addedWidgets": {},
       "aggData": [],
       "aggError": "",
       "aggOverflow": false,
       "aggSchema": [],
       "aggSeriesLimitReached": false,
       "aggType": "",
       "arguments": {},
       "columnCustomDisplayInfos": {},
       "data": [
        [
         "2015-03-22T14:13:34",
         1646641525847,
         "May, 2021",
         "2025-03-14",
         "2025-03-14T21:26:09.936+0000",
         "2022-03-07 08:25:25"
        ],
        [
         "2015-03-22T15:03:18",
         1646641557555,
         "Mar, 2021",
         "2025-03-14",
         "2025-03-14T21:26:09.936+0000",
         "2022-03-07 08:25:57"
        ],
        [
         "2015-03-22T14:38:39",
         1646641578622,
         "Jan, 2021",
         "2025-03-14",
         "2025-03-14T21:26:09.936+0000",
         "2022-03-07 08:26:18"
        ]
       ],
       "datasetInfos": [],
       "dbfsResultPath": null,
       "isJsonSchema": true,
       "metadata": {},
       "overflow": false,
       "plotOptions": {
        "customPlotOptions": {},
        "displayType": "table",
        "pivotAggregation": null,
        "pivotColumns": null,
        "xColumns": null,
        "yColumns": null
       },
       "removedWidgets": [],
       "schema": [
        {
         "metadata": "{}",
         "name": "timestamp",
         "type": "\"string\""
        },
        {
         "metadata": "{}",
         "name": "unix",
         "type": "\"long\""
        },
        {
         "metadata": "{}",
         "name": "Date",
         "type": "\"string\""
        },
        {
         "metadata": "{}",
         "name": "current_date",
         "type": "\"date\""
        },
        {
         "metadata": "{}",
         "name": "current_timestamp",
         "type": "\"timestamp\""
        },
        {
         "metadata": "{}",
         "name": "FromUnix",
         "type": "\"string\""
        }
       ],
       "type": "table"
      }
     },
     "output_type": "display_data"
    }
   ],
   "source": [
    "#from_unixtime()\n",
    "fromUnix = dataFrame.withColumn('FromUnix',from_unixtime(dataFrame['unix']/ 1000))\n",
    "display(fromUnix)"
   ]
  },
  {
   "cell_type": "code",
   "execution_count": 0,
   "metadata": {
    "application/vnd.databricks.v1+cell": {
     "cellMetadata": {
      "byteLimit": 2048000,
      "rowLimit": 10000
     },
     "inputWidgets": {},
     "nuid": "ebba34dc-f8ad-4c31-9de1-59bf7e86e749",
     "showTitle": false,
     "tableResultSettingsMap": {},
     "title": ""
    }
   },
   "outputs": [
    {
     "output_type": "display_data",
     "data": {
      "text/html": [
       "<style scoped>\n",
       "  .table-result-container {\n",
       "    max-height: 300px;\n",
       "    overflow: auto;\n",
       "  }\n",
       "  table, th, td {\n",
       "    border: 1px solid black;\n",
       "    border-collapse: collapse;\n",
       "  }\n",
       "  th, td {\n",
       "    padding: 5px;\n",
       "  }\n",
       "  th {\n",
       "    text-align: left;\n",
       "  }\n",
       "</style><div class='table-result-container'><table class='table-result'><thead style='background-color: white'><tr><th>timestamp</th><th>unix</th><th>Date</th><th>current_date</th><th>current_timestamp</th><th>UnixTimestamp</th><th>DateTimestamp</th><th>DatetoTimestamp</th></tr></thead><tbody><tr><td>2015-03-22T14:13:34</td><td>1646641525847</td><td>May, 2021</td><td>2025-03-14</td><td>2025-03-14T21:29:16.660+0000</td><td>2022-03-07 08:25:25</td><td>2021-05-01T00:00:00.000+0000</td><td>2025-03-14T00:00:00.000+0000</td></tr><tr><td>2015-03-22T15:03:18</td><td>1646641557555</td><td>Mar, 2021</td><td>2025-03-14</td><td>2025-03-14T21:29:16.660+0000</td><td>2022-03-07 08:25:57</td><td>2021-03-01T00:00:00.000+0000</td><td>2025-03-14T00:00:00.000+0000</td></tr><tr><td>2015-03-22T14:38:39</td><td>1646641578622</td><td>Jan, 2021</td><td>2025-03-14</td><td>2025-03-14T21:29:16.660+0000</td><td>2022-03-07 08:26:18</td><td>2021-01-01T00:00:00.000+0000</td><td>2025-03-14T00:00:00.000+0000</td></tr></tbody></table></div>"
      ]
     },
     "metadata": {
      "application/vnd.databricks.v1+output": {
       "addedWidgets": {},
       "aggData": [],
       "aggError": "",
       "aggOverflow": false,
       "aggSchema": [],
       "aggSeriesLimitReached": false,
       "aggType": "",
       "arguments": {},
       "columnCustomDisplayInfos": {},
       "data": [
        [
         "2015-03-22T14:13:34",
         1646641525847,
         "May, 2021",
         "2025-03-14",
         "2025-03-14T21:29:16.660+0000",
         "2022-03-07 08:25:25",
         "2021-05-01T00:00:00.000+0000",
         "2025-03-14T00:00:00.000+0000"
        ],
        [
         "2015-03-22T15:03:18",
         1646641557555,
         "Mar, 2021",
         "2025-03-14",
         "2025-03-14T21:29:16.660+0000",
         "2022-03-07 08:25:57",
         "2021-03-01T00:00:00.000+0000",
         "2025-03-14T00:00:00.000+0000"
        ],
        [
         "2015-03-22T14:38:39",
         1646641578622,
         "Jan, 2021",
         "2025-03-14",
         "2025-03-14T21:29:16.660+0000",
         "2022-03-07 08:26:18",
         "2021-01-01T00:00:00.000+0000",
         "2025-03-14T00:00:00.000+0000"
        ]
       ],
       "datasetInfos": [],
       "dbfsResultPath": null,
       "isJsonSchema": true,
       "metadata": {},
       "overflow": false,
       "plotOptions": {
        "customPlotOptions": {},
        "displayType": "table",
        "pivotAggregation": null,
        "pivotColumns": null,
        "xColumns": null,
        "yColumns": null
       },
       "removedWidgets": [],
       "schema": [
        {
         "metadata": "{}",
         "name": "timestamp",
         "type": "\"string\""
        },
        {
         "metadata": "{}",
         "name": "unix",
         "type": "\"long\""
        },
        {
         "metadata": "{}",
         "name": "Date",
         "type": "\"string\""
        },
        {
         "metadata": "{}",
         "name": "current_date",
         "type": "\"date\""
        },
        {
         "metadata": "{}",
         "name": "current_timestamp",
         "type": "\"timestamp\""
        },
        {
         "metadata": "{}",
         "name": "UnixTimestamp",
         "type": "\"string\""
        },
        {
         "metadata": "{}",
         "name": "DateTimestamp",
         "type": "\"timestamp\""
        },
        {
         "metadata": "{}",
         "name": "DatetoTimestamp",
         "type": "\"timestamp\""
        }
       ],
       "type": "table"
      }
     },
     "output_type": "display_data"
    }
   ],
   "source": [
    "\n",
    "#to_timestamp()\n",
    "toTimestamp = dataFrame.withColumn('UnixTimestamp', from_unixtime(dataFrame['unix'] / 1000))\\\n",
    "    .withColumn('DateTimestamp', to_timestamp(dataFrame['Date'],'MMM, yyyy'))\\\n",
    "    .withColumn('DatetoTimestamp', to_timestamp(dataFrame['current_date']))\n",
    "display(toTimestamp)\n"
   ]
  },
  {
   "cell_type": "code",
   "execution_count": 0,
   "metadata": {
    "application/vnd.databricks.v1+cell": {
     "cellMetadata": {
      "byteLimit": 2048000,
      "rowLimit": 10000
     },
     "inputWidgets": {},
     "nuid": "8ea929b6-c0cb-49a1-9db7-f9b057fb4de9",
     "showTitle": false,
     "tableResultSettingsMap": {},
     "title": ""
    }
   },
   "outputs": [
    {
     "output_type": "display_data",
     "data": {
      "text/html": [
       "<style scoped>\n",
       "  .table-result-container {\n",
       "    max-height: 300px;\n",
       "    overflow: auto;\n",
       "  }\n",
       "  table, th, td {\n",
       "    border: 1px solid black;\n",
       "    border-collapse: collapse;\n",
       "  }\n",
       "  th, td {\n",
       "    padding: 5px;\n",
       "  }\n",
       "  th {\n",
       "    text-align: left;\n",
       "  }\n",
       "</style><div class='table-result-container'><table class='table-result'><thead style='background-color: white'><tr><th>timestamp</th><th>unix</th><th>Date</th><th>current_date</th><th>current_timestamp</th><th>UTC</th><th>CET</th><th>toUTC</th></tr></thead><tbody><tr><td>2015-03-22T14:13:34</td><td>1646641525847</td><td>May, 2021</td><td>2025-03-14</td><td>2025-03-14T21:55:15.318+0000</td><td>2022-03-07T08:25:25.000+0000</td><td>2025-03-13T23:00:00.000+0000</td><td>2015-03-22T14:13:34.000+0000</td></tr><tr><td>2015-03-22T15:03:18</td><td>1646641557555</td><td>Mar, 2021</td><td>2025-03-14</td><td>2025-03-14T21:55:15.318+0000</td><td>2022-03-07T08:25:57.000+0000</td><td>2025-03-13T23:00:00.000+0000</td><td>2015-03-22T15:03:18.000+0000</td></tr><tr><td>2015-03-22T14:38:39</td><td>1646641578622</td><td>Jan, 2021</td><td>2025-03-14</td><td>2025-03-14T21:55:15.318+0000</td><td>2022-03-07T08:26:18.000+0000</td><td>2025-03-13T23:00:00.000+0000</td><td>2015-03-22T14:38:39.000+0000</td></tr></tbody></table></div>"
      ]
     },
     "metadata": {
      "application/vnd.databricks.v1+output": {
       "addedWidgets": {},
       "aggData": [],
       "aggError": "",
       "aggOverflow": false,
       "aggSchema": [],
       "aggSeriesLimitReached": false,
       "aggType": "",
       "arguments": {},
       "columnCustomDisplayInfos": {},
       "data": [
        [
         "2015-03-22T14:13:34",
         1646641525847,
         "May, 2021",
         "2025-03-14",
         "2025-03-14T21:55:15.318+0000",
         "2022-03-07T08:25:25.000+0000",
         "2025-03-13T23:00:00.000+0000",
         "2015-03-22T14:13:34.000+0000"
        ],
        [
         "2015-03-22T15:03:18",
         1646641557555,
         "Mar, 2021",
         "2025-03-14",
         "2025-03-14T21:55:15.318+0000",
         "2022-03-07T08:25:57.000+0000",
         "2025-03-13T23:00:00.000+0000",
         "2015-03-22T15:03:18.000+0000"
        ],
        [
         "2015-03-22T14:38:39",
         1646641578622,
         "Jan, 2021",
         "2025-03-14",
         "2025-03-14T21:55:15.318+0000",
         "2022-03-07T08:26:18.000+0000",
         "2025-03-13T23:00:00.000+0000",
         "2015-03-22T14:38:39.000+0000"
        ]
       ],
       "datasetInfos": [],
       "dbfsResultPath": null,
       "isJsonSchema": true,
       "metadata": {},
       "overflow": false,
       "plotOptions": {
        "customPlotOptions": {},
        "displayType": "table",
        "pivotAggregation": null,
        "pivotColumns": null,
        "xColumns": null,
        "yColumns": null
       },
       "removedWidgets": [],
       "schema": [
        {
         "metadata": "{}",
         "name": "timestamp",
         "type": "\"string\""
        },
        {
         "metadata": "{}",
         "name": "unix",
         "type": "\"long\""
        },
        {
         "metadata": "{}",
         "name": "Date",
         "type": "\"string\""
        },
        {
         "metadata": "{}",
         "name": "current_date",
         "type": "\"date\""
        },
        {
         "metadata": "{}",
         "name": "current_timestamp",
         "type": "\"timestamp\""
        },
        {
         "metadata": "{}",
         "name": "UTC",
         "type": "\"timestamp\""
        },
        {
         "metadata": "{}",
         "name": "CET",
         "type": "\"timestamp\""
        },
        {
         "metadata": "{}",
         "name": "toUTC",
         "type": "\"timestamp\""
        }
       ],
       "type": "table"
      }
     },
     "output_type": "display_data"
    }
   ],
   "source": [
    "#to_utc_timestamp()\n",
    "toUtcTimestamp = dataFrame.withColumn('UTC',to_utc_timestamp(from_unixtime(dataFrame['unix']/ 1000 ), 'UTC') )\\\n",
    "    .withColumn('CET',to_utc_timestamp(dataFrame['current_date'], 'CET'))\\\n",
    "    .withColumn('toUTC', to_utc_timestamp(dataFrame['timestamp'], 'UTC'))\n",
    "display(toUtcTimestamp)\n",
    "\n"
   ]
  },
  {
   "cell_type": "code",
   "execution_count": 0,
   "metadata": {
    "application/vnd.databricks.v1+cell": {
     "cellMetadata": {
      "byteLimit": 2048000,
      "rowLimit": 10000
     },
     "inputWidgets": {},
     "nuid": "d9d24a58-521a-4bb2-b03a-a1fac517faed",
     "showTitle": false,
     "tableResultSettingsMap": {},
     "title": ""
    }
   },
   "outputs": [
    {
     "output_type": "display_data",
     "data": {
      "text/html": [
       "<style scoped>\n",
       "  .table-result-container {\n",
       "    max-height: 300px;\n",
       "    overflow: auto;\n",
       "  }\n",
       "  table, th, td {\n",
       "    border: 1px solid black;\n",
       "    border-collapse: collapse;\n",
       "  }\n",
       "  th, td {\n",
       "    padding: 5px;\n",
       "  }\n",
       "  th {\n",
       "    text-align: left;\n",
       "  }\n",
       "</style><div class='table-result-container'><table class='table-result'><thead style='background-color: white'><tr><th>timestamp</th><th>unix</th><th>Date</th><th>current_date</th><th>current_timestamp</th><th>FROM_UTC_TIMESTAMP</th></tr></thead><tbody><tr><td>2015-03-22T14:13:34</td><td>1646641525847</td><td>May, 2021</td><td>2025-03-14</td><td>2025-03-14T21:57:09.538+0000</td><td>2015-03-22T07:13:34.000+0000</td></tr><tr><td>2015-03-22T15:03:18</td><td>1646641557555</td><td>Mar, 2021</td><td>2025-03-14</td><td>2025-03-14T21:57:09.538+0000</td><td>2015-03-22T08:03:18.000+0000</td></tr><tr><td>2015-03-22T14:38:39</td><td>1646641578622</td><td>Jan, 2021</td><td>2025-03-14</td><td>2025-03-14T21:57:09.538+0000</td><td>2015-03-22T07:38:39.000+0000</td></tr></tbody></table></div>"
      ]
     },
     "metadata": {
      "application/vnd.databricks.v1+output": {
       "addedWidgets": {},
       "aggData": [],
       "aggError": "",
       "aggOverflow": false,
       "aggSchema": [],
       "aggSeriesLimitReached": false,
       "aggType": "",
       "arguments": {},
       "columnCustomDisplayInfos": {},
       "data": [
        [
         "2015-03-22T14:13:34",
         1646641525847,
         "May, 2021",
         "2025-03-14",
         "2025-03-14T21:57:09.538+0000",
         "2015-03-22T07:13:34.000+0000"
        ],
        [
         "2015-03-22T15:03:18",
         1646641557555,
         "Mar, 2021",
         "2025-03-14",
         "2025-03-14T21:57:09.538+0000",
         "2015-03-22T08:03:18.000+0000"
        ],
        [
         "2015-03-22T14:38:39",
         1646641578622,
         "Jan, 2021",
         "2025-03-14",
         "2025-03-14T21:57:09.538+0000",
         "2015-03-22T07:38:39.000+0000"
        ]
       ],
       "datasetInfos": [],
       "dbfsResultPath": null,
       "isJsonSchema": true,
       "metadata": {},
       "overflow": false,
       "plotOptions": {
        "customPlotOptions": {},
        "displayType": "table",
        "pivotAggregation": null,
        "pivotColumns": null,
        "xColumns": null,
        "yColumns": null
       },
       "removedWidgets": [],
       "schema": [
        {
         "metadata": "{}",
         "name": "timestamp",
         "type": "\"string\""
        },
        {
         "metadata": "{}",
         "name": "unix",
         "type": "\"long\""
        },
        {
         "metadata": "{}",
         "name": "Date",
         "type": "\"string\""
        },
        {
         "metadata": "{}",
         "name": "current_date",
         "type": "\"date\""
        },
        {
         "metadata": "{}",
         "name": "current_timestamp",
         "type": "\"timestamp\""
        },
        {
         "metadata": "{}",
         "name": "FROM_UTC_TIMESTAMP",
         "type": "\"timestamp\""
        }
       ],
       "type": "table"
      }
     },
     "output_type": "display_data"
    }
   ],
   "source": [
    "#from_utc_timestamp()\n",
    "fromUtcTimestamp = dataFrame.withColumn('FROM_UTC_TIMESTAMP',from_utc_timestamp(dataFrame['timestamp'], \"PST\"))\n",
    "display(fromUtcTimestamp)"
   ]
  },
  {
   "cell_type": "code",
   "execution_count": 0,
   "metadata": {
    "application/vnd.databricks.v1+cell": {
     "cellMetadata": {},
     "inputWidgets": {},
     "nuid": "760dd830-951a-474d-ba16-fd8e5e9800d2",
     "showTitle": false,
     "tableResultSettingsMap": {},
     "title": ""
    }
   },
   "outputs": [],
   "source": []
  }
 ],
 "metadata": {
  "application/vnd.databricks.v1+notebook": {
   "computePreferences": null,
   "dashboards": [],
   "environmentMetadata": null,
   "language": "python",
   "notebookMetadata": {
    "pythonIndentUnit": 4
   },
   "notebookName": "Daty",
   "widgets": {}
  }
 },
 "nbformat": 4,
 "nbformat_minor": 0
}
